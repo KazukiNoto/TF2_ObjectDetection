{
 "metadata": {
  "language_info": {
   "codemirror_mode": {
    "name": "ipython",
    "version": 3
   },
   "file_extension": ".py",
   "mimetype": "text/x-python",
   "name": "python",
   "nbconvert_exporter": "python",
   "pygments_lexer": "ipython3",
   "version": "3.7.3-final"
  },
  "orig_nbformat": 2,
  "kernelspec": {
   "name": "Python 3.7.3 64-bit",
   "display_name": "Python 3.7.3 64-bit",
   "metadata": {
    "interpreter": {
     "hash": "4cd7ab41f5fca4b9b44701077e38c5ffd31fe66a6cab21e0214b68d958d0e462"
    }
   }
  }
 },
 "nbformat": 4,
 "nbformat_minor": 2,
 "cells": [
  {
   "source": [
    "# 学習環境構築\n",
    "\n",
    "- Protocol Buffersインストール\n"
   ],
   "cell_type": "markdown",
   "metadata": {}
  },
  {
   "source": [
    "# Protocol Buffersインストール\n",
    "\n",
    "[Protocol Buffers](https://developers.google.com/protocol-buffers/docs/downloads)\n"
   ],
   "cell_type": "markdown",
   "metadata": {}
  },
  {
   "cell_type": "code",
   "execution_count": 4,
   "metadata": {},
   "outputs": [
    {
     "output_type": "stream",
     "name": "stdout",
     "text": [
      "  % Total    % Received % Xferd  Average Speed   Time    Time     Time  Current\n",
      "                                 Dload  Upload   Total   Spent    Left  Speed\n",
      "100   164  100   164    0     0    492      0 --:--:-- --:--:-- --:--:--   493\n",
      "100   653  100   653    0     0   1025      0 --:--:-- --:--:-- --:--:--  1025\n",
      "100 1299k  100 1299k    0     0   516k      0  0:00:02  0:00:02 --:--:--  778k\n",
      "Archive:  protoc-3.2.0-linux-x86_64.zip\n",
      "   creating: protoc3/include/\n",
      "   creating: protoc3/include/google/\n",
      "   creating: protoc3/include/google/protobuf/\n",
      "  inflating: protoc3/include/google/protobuf/timestamp.proto  \n",
      "  inflating: protoc3/include/google/protobuf/source_context.proto  \n",
      "  inflating: protoc3/include/google/protobuf/any.proto  \n",
      "  inflating: protoc3/include/google/protobuf/api.proto  \n",
      "  inflating: protoc3/include/google/protobuf/descriptor.proto  \n",
      "  inflating: protoc3/include/google/protobuf/struct.proto  \n",
      "  inflating: protoc3/include/google/protobuf/wrappers.proto  \n",
      "   creating: protoc3/include/google/protobuf/compiler/\n",
      "  inflating: protoc3/include/google/protobuf/compiler/plugin.proto  \n",
      "  inflating: protoc3/include/google/protobuf/empty.proto  \n",
      "  inflating: protoc3/include/google/protobuf/duration.proto  \n",
      "  inflating: protoc3/include/google/protobuf/field_mask.proto  \n",
      "  inflating: protoc3/include/google/protobuf/type.proto  \n",
      "   creating: protoc3/bin/\n",
      "  inflating: protoc3/bin/protoc      \n",
      "  inflating: protoc3/readme.txt      \n"
     ]
    }
   ],
   "source": [
    "! curl -OL https://github.com/google/protobuf/releases/download/v3.2.0/protoc-3.2.0-linux-x86_64.zip\n",
    "! unzip protoc-3.2.0-linux-x86_64.zip -d protoc3\n",
    "! mv protoc3/bin/* /usr/local/bin/\n",
    "! mv protoc3/include/* /usr/local/include/\n",
    "! rm -rf protoc3 protoc-3.2.0-linux-x86_64.zip"
   ]
  },
  {
   "source": [
    "# TensorFlow Object Detection API準備\n",
    "\n"
   ],
   "cell_type": "markdown",
   "metadata": {}
  },
  {
   "cell_type": "code",
   "execution_count": 1,
   "metadata": {},
   "outputs": [
    {
     "output_type": "stream",
     "name": "stdout",
     "text": [
      "Cloning into 'models'...\n",
      "remote: Enumerating objects: 2234, done.\u001b[K\n",
      "remote: Counting objects: 100% (2234/2234), done.\u001b[K\n",
      "remote: Compressing objects: 100% (1930/1930), done.\u001b[K\n",
      "remote: Total 2234 (delta 541), reused 946 (delta 279), pack-reused 0\u001b[K\n",
      "Receiving objects: 100% (2234/2234), 30.49 MiB | 5.88 MiB/s, done.\n",
      "Resolving deltas: 100% (541/541), done.\n",
      "Checking out files: 100% (2090/2090), done.\n"
     ]
    }
   ],
   "source": [
    "# Git Clone\n",
    "! git clone --depth 1 https://github.com/tensorflow/models"
   ]
  },
  {
   "source": [
    "シェルで下記を実行\n",
    "\n",
    "> $ cd models/research\n",
    "\n",
    "> /usr/local/bin/protoc object_detection/protos/*.proto --python_out=.\n"
   ],
   "cell_type": "markdown",
   "metadata": {}
  },
  {
   "source": [
    "# ライブラリのセットアップ\n",
    "\n",
    "コマンドは上に引き続き、`models/research`ディレクトリで実行する\n",
    "\n",
    "> $ cp object_detection/packages/tf2/setup.py .\n",
    "\n",
    "> $ python -m pip install ."
   ],
   "cell_type": "markdown",
   "metadata": {}
  },
  {
   "source": [
    "# セットアップの動作確認"
   ],
   "cell_type": "markdown",
   "metadata": {}
  },
  {
   "cell_type": "code",
   "execution_count": 6,
   "metadata": {
    "tags": [
     "outputPrepend"
    ]
   },
   "outputs": [
    {
     "output_type": "stream",
     "name": "stdout",
     "text": [
      "cientnet with params ModelConfig(width_coefficient=1.2, depth_coefficient=1.4, resolution=300, dropout_rate=0.3, blocks=(BlockConfig(input_filters=32, output_filters=16, kernel_size=3, num_repeat=1, expand_ratio=1, strides=(1, 1), se_ratio=0.25, id_skip=True, fused_conv=False, conv_type='depthwise'), BlockConfig(input_filters=16, output_filters=24, kernel_size=3, num_repeat=2, expand_ratio=6, strides=(2, 2), se_ratio=0.25, id_skip=True, fused_conv=False, conv_type='depthwise'), BlockConfig(input_filters=24, output_filters=40, kernel_size=5, num_repeat=2, expand_ratio=6, strides=(2, 2), se_ratio=0.25, id_skip=True, fused_conv=False, conv_type='depthwise'), BlockConfig(input_filters=40, output_filters=80, kernel_size=3, num_repeat=3, expand_ratio=6, strides=(2, 2), se_ratio=0.25, id_skip=True, fused_conv=False, conv_type='depthwise'), BlockConfig(input_filters=80, output_filters=112, kernel_size=5, num_repeat=3, expand_ratio=6, strides=(1, 1), se_ratio=0.25, id_skip=True, fused_conv=False, conv_type='depthwise'), BlockConfig(input_filters=112, output_filters=192, kernel_size=5, num_repeat=4, expand_ratio=6, strides=(2, 2), se_ratio=0.25, id_skip=True, fused_conv=False, conv_type='depthwise'), BlockConfig(input_filters=192, output_filters=320, kernel_size=3, num_repeat=1, expand_ratio=6, strides=(1, 1), se_ratio=0.25, id_skip=True, fused_conv=False, conv_type='depthwise')), stem_base_filters=32, top_base_filters=1280, activation='simple_swish', batch_norm='default', bn_momentum=0.99, bn_epsilon=0.001, weight_decay=5e-06, drop_connect_rate=0.2, depth_divisor=8, min_depth=None, use_se=True, input_channels=3, num_classes=1000, model_name='efficientnet', rescale_input=False, data_format='channels_last', dtype='float32')\n",
      "I1012 21:53:11.327833 139645565806336 ssd_efficientnet_bifpn_feature_extractor.py:144] EfficientDet EfficientNet backbone version: efficientnet-b4\n",
      "I1012 21:53:11.328026 139645565806336 ssd_efficientnet_bifpn_feature_extractor.py:145] EfficientDet BiFPN num filters: 224\n",
      "I1012 21:53:11.328139 139645565806336 ssd_efficientnet_bifpn_feature_extractor.py:147] EfficientDet BiFPN num iterations: 7\n",
      "I1012 21:53:11.334225 139645565806336 efficientnet_model.py:148] round_filter input=32 output=48\n",
      "I1012 21:53:11.358676 139645565806336 efficientnet_model.py:148] round_filter input=32 output=48\n",
      "I1012 21:53:11.358883 139645565806336 efficientnet_model.py:148] round_filter input=16 output=24\n",
      "I1012 21:53:11.517812 139645565806336 efficientnet_model.py:148] round_filter input=16 output=24\n",
      "I1012 21:53:11.517993 139645565806336 efficientnet_model.py:148] round_filter input=24 output=32\n",
      "I1012 21:53:12.089359 139645565806336 efficientnet_model.py:148] round_filter input=24 output=32\n",
      "I1012 21:53:12.089597 139645565806336 efficientnet_model.py:148] round_filter input=40 output=56\n",
      "I1012 21:53:12.512574 139645565806336 efficientnet_model.py:148] round_filter input=40 output=56\n",
      "I1012 21:53:12.512763 139645565806336 efficientnet_model.py:148] round_filter input=80 output=112\n",
      "I1012 21:53:13.149064 139645565806336 efficientnet_model.py:148] round_filter input=80 output=112\n",
      "I1012 21:53:13.149238 139645565806336 efficientnet_model.py:148] round_filter input=112 output=160\n",
      "I1012 21:53:13.794981 139645565806336 efficientnet_model.py:148] round_filter input=112 output=160\n",
      "I1012 21:53:13.795160 139645565806336 efficientnet_model.py:148] round_filter input=192 output=272\n",
      "I1012 21:53:14.690401 139645565806336 efficientnet_model.py:148] round_filter input=192 output=272\n",
      "I1012 21:53:14.690580 139645565806336 efficientnet_model.py:148] round_filter input=320 output=448\n",
      "I1012 21:53:14.915554 139645565806336 efficientnet_model.py:148] round_filter input=1280 output=1792\n",
      "I1012 21:53:14.964910 139645565806336 efficientnet_model.py:462] Building model efficientnet with params ModelConfig(width_coefficient=1.4, depth_coefficient=1.8, resolution=380, dropout_rate=0.4, blocks=(BlockConfig(input_filters=32, output_filters=16, kernel_size=3, num_repeat=1, expand_ratio=1, strides=(1, 1), se_ratio=0.25, id_skip=True, fused_conv=False, conv_type='depthwise'), BlockConfig(input_filters=16, output_filters=24, kernel_size=3, num_repeat=2, expand_ratio=6, strides=(2, 2), se_ratio=0.25, id_skip=True, fused_conv=False, conv_type='depthwise'), BlockConfig(input_filters=24, output_filters=40, kernel_size=5, num_repeat=2, expand_ratio=6, strides=(2, 2), se_ratio=0.25, id_skip=True, fused_conv=False, conv_type='depthwise'), BlockConfig(input_filters=40, output_filters=80, kernel_size=3, num_repeat=3, expand_ratio=6, strides=(2, 2), se_ratio=0.25, id_skip=True, fused_conv=False, conv_type='depthwise'), BlockConfig(input_filters=80, output_filters=112, kernel_size=5, num_repeat=3, expand_ratio=6, strides=(1, 1), se_ratio=0.25, id_skip=True, fused_conv=False, conv_type='depthwise'), BlockConfig(input_filters=112, output_filters=192, kernel_size=5, num_repeat=4, expand_ratio=6, strides=(2, 2), se_ratio=0.25, id_skip=True, fused_conv=False, conv_type='depthwise'), BlockConfig(input_filters=192, output_filters=320, kernel_size=3, num_repeat=1, expand_ratio=6, strides=(1, 1), se_ratio=0.25, id_skip=True, fused_conv=False, conv_type='depthwise')), stem_base_filters=32, top_base_filters=1280, activation='simple_swish', batch_norm='default', bn_momentum=0.99, bn_epsilon=0.001, weight_decay=5e-06, drop_connect_rate=0.2, depth_divisor=8, min_depth=None, use_se=True, input_channels=3, num_classes=1000, model_name='efficientnet', rescale_input=False, data_format='channels_last', dtype='float32')\n",
      "I1012 21:53:15.100606 139645565806336 ssd_efficientnet_bifpn_feature_extractor.py:144] EfficientDet EfficientNet backbone version: efficientnet-b5\n",
      "I1012 21:53:15.100802 139645565806336 ssd_efficientnet_bifpn_feature_extractor.py:145] EfficientDet BiFPN num filters: 288\n",
      "I1012 21:53:15.100907 139645565806336 ssd_efficientnet_bifpn_feature_extractor.py:147] EfficientDet BiFPN num iterations: 7\n",
      "I1012 21:53:15.106522 139645565806336 efficientnet_model.py:148] round_filter input=32 output=48\n",
      "I1012 21:53:15.131319 139645565806336 efficientnet_model.py:148] round_filter input=32 output=48\n",
      "I1012 21:53:15.131525 139645565806336 efficientnet_model.py:148] round_filter input=16 output=24\n",
      "I1012 21:53:15.363960 139645565806336 efficientnet_model.py:148] round_filter input=16 output=24\n",
      "I1012 21:53:15.364145 139645565806336 efficientnet_model.py:148] round_filter input=24 output=40\n",
      "I1012 21:53:15.888725 139645565806336 efficientnet_model.py:148] round_filter input=24 output=40\n",
      "I1012 21:53:15.888895 139645565806336 efficientnet_model.py:148] round_filter input=40 output=64\n",
      "I1012 21:53:16.412109 139645565806336 efficientnet_model.py:148] round_filter input=40 output=64\n",
      "I1012 21:53:16.412286 139645565806336 efficientnet_model.py:148] round_filter input=80 output=128\n",
      "I1012 21:53:17.356421 139645565806336 efficientnet_model.py:148] round_filter input=80 output=128\n",
      "I1012 21:53:17.356597 139645565806336 efficientnet_model.py:148] round_filter input=112 output=176\n",
      "I1012 21:53:18.117965 139645565806336 efficientnet_model.py:148] round_filter input=112 output=176\n",
      "I1012 21:53:18.118136 139645565806336 efficientnet_model.py:148] round_filter input=192 output=304\n",
      "I1012 21:53:19.168401 139645565806336 efficientnet_model.py:148] round_filter input=192 output=304\n",
      "I1012 21:53:19.168656 139645565806336 efficientnet_model.py:148] round_filter input=320 output=512\n",
      "I1012 21:53:19.552382 139645565806336 efficientnet_model.py:148] round_filter input=1280 output=2048\n",
      "I1012 21:53:19.612764 139645565806336 efficientnet_model.py:462] Building model efficientnet with params ModelConfig(width_coefficient=1.6, depth_coefficient=2.2, resolution=456, dropout_rate=0.4, blocks=(BlockConfig(input_filters=32, output_filters=16, kernel_size=3, num_repeat=1, expand_ratio=1, strides=(1, 1), se_ratio=0.25, id_skip=True, fused_conv=False, conv_type='depthwise'), BlockConfig(input_filters=16, output_filters=24, kernel_size=3, num_repeat=2, expand_ratio=6, strides=(2, 2), se_ratio=0.25, id_skip=True, fused_conv=False, conv_type='depthwise'), BlockConfig(input_filters=24, output_filters=40, kernel_size=5, num_repeat=2, expand_ratio=6, strides=(2, 2), se_ratio=0.25, id_skip=True, fused_conv=False, conv_type='depthwise'), BlockConfig(input_filters=40, output_filters=80, kernel_size=3, num_repeat=3, expand_ratio=6, strides=(2, 2), se_ratio=0.25, id_skip=True, fused_conv=False, conv_type='depthwise'), BlockConfig(input_filters=80, output_filters=112, kernel_size=5, num_repeat=3, expand_ratio=6, strides=(1, 1), se_ratio=0.25, id_skip=True, fused_conv=False, conv_type='depthwise'), BlockConfig(input_filters=112, output_filters=192, kernel_size=5, num_repeat=4, expand_ratio=6, strides=(2, 2), se_ratio=0.25, id_skip=True, fused_conv=False, conv_type='depthwise'), BlockConfig(input_filters=192, output_filters=320, kernel_size=3, num_repeat=1, expand_ratio=6, strides=(1, 1), se_ratio=0.25, id_skip=True, fused_conv=False, conv_type='depthwise')), stem_base_filters=32, top_base_filters=1280, activation='simple_swish', batch_norm='default', bn_momentum=0.99, bn_epsilon=0.001, weight_decay=5e-06, drop_connect_rate=0.2, depth_divisor=8, min_depth=None, use_se=True, input_channels=3, num_classes=1000, model_name='efficientnet', rescale_input=False, data_format='channels_last', dtype='float32')\n",
      "I1012 21:53:19.776670 139645565806336 ssd_efficientnet_bifpn_feature_extractor.py:144] EfficientDet EfficientNet backbone version: efficientnet-b6\n",
      "I1012 21:53:19.776857 139645565806336 ssd_efficientnet_bifpn_feature_extractor.py:145] EfficientDet BiFPN num filters: 384\n",
      "I1012 21:53:19.776961 139645565806336 ssd_efficientnet_bifpn_feature_extractor.py:147] EfficientDet BiFPN num iterations: 8\n",
      "I1012 21:53:19.782861 139645565806336 efficientnet_model.py:148] round_filter input=32 output=56\n",
      "I1012 21:53:19.805809 139645565806336 efficientnet_model.py:148] round_filter input=32 output=56\n",
      "I1012 21:53:19.805999 139645565806336 efficientnet_model.py:148] round_filter input=16 output=32\n",
      "I1012 21:53:20.044800 139645565806336 efficientnet_model.py:148] round_filter input=16 output=32\n",
      "I1012 21:53:20.044983 139645565806336 efficientnet_model.py:148] round_filter input=24 output=40\n",
      "I1012 21:53:20.700577 139645565806336 efficientnet_model.py:148] round_filter input=24 output=40\n",
      "I1012 21:53:20.700750 139645565806336 efficientnet_model.py:148] round_filter input=40 output=72\n",
      "I1012 21:53:21.345418 139645565806336 efficientnet_model.py:148] round_filter input=40 output=72\n",
      "I1012 21:53:21.345580 139645565806336 efficientnet_model.py:148] round_filter input=80 output=144\n",
      "I1012 21:53:22.157707 139645565806336 efficientnet_model.py:148] round_filter input=80 output=144\n",
      "I1012 21:53:22.157880 139645565806336 efficientnet_model.py:148] round_filter input=112 output=200\n",
      "I1012 21:53:22.998621 139645565806336 efficientnet_model.py:148] round_filter input=112 output=200\n",
      "I1012 21:53:22.998830 139645565806336 efficientnet_model.py:148] round_filter input=192 output=344\n",
      "I1012 21:53:24.454070 139645565806336 efficientnet_model.py:148] round_filter input=192 output=344\n",
      "I1012 21:53:24.454230 139645565806336 efficientnet_model.py:148] round_filter input=320 output=576\n",
      "I1012 21:53:24.837935 139645565806336 efficientnet_model.py:148] round_filter input=1280 output=2304\n",
      "I1012 21:53:24.890585 139645565806336 efficientnet_model.py:462] Building model efficientnet with params ModelConfig(width_coefficient=1.8, depth_coefficient=2.6, resolution=528, dropout_rate=0.5, blocks=(BlockConfig(input_filters=32, output_filters=16, kernel_size=3, num_repeat=1, expand_ratio=1, strides=(1, 1), se_ratio=0.25, id_skip=True, fused_conv=False, conv_type='depthwise'), BlockConfig(input_filters=16, output_filters=24, kernel_size=3, num_repeat=2, expand_ratio=6, strides=(2, 2), se_ratio=0.25, id_skip=True, fused_conv=False, conv_type='depthwise'), BlockConfig(input_filters=24, output_filters=40, kernel_size=5, num_repeat=2, expand_ratio=6, strides=(2, 2), se_ratio=0.25, id_skip=True, fused_conv=False, conv_type='depthwise'), BlockConfig(input_filters=40, output_filters=80, kernel_size=3, num_repeat=3, expand_ratio=6, strides=(2, 2), se_ratio=0.25, id_skip=True, fused_conv=False, conv_type='depthwise'), BlockConfig(input_filters=80, output_filters=112, kernel_size=5, num_repeat=3, expand_ratio=6, strides=(1, 1), se_ratio=0.25, id_skip=True, fused_conv=False, conv_type='depthwise'), BlockConfig(input_filters=112, output_filters=192, kernel_size=5, num_repeat=4, expand_ratio=6, strides=(2, 2), se_ratio=0.25, id_skip=True, fused_conv=False, conv_type='depthwise'), BlockConfig(input_filters=192, output_filters=320, kernel_size=3, num_repeat=1, expand_ratio=6, strides=(1, 1), se_ratio=0.25, id_skip=True, fused_conv=False, conv_type='depthwise')), stem_base_filters=32, top_base_filters=1280, activation='simple_swish', batch_norm='default', bn_momentum=0.99, bn_epsilon=0.001, weight_decay=5e-06, drop_connect_rate=0.2, depth_divisor=8, min_depth=None, use_se=True, input_channels=3, num_classes=1000, model_name='efficientnet', rescale_input=False, data_format='channels_last', dtype='float32')\n",
      "I1012 21:53:25.058498 139645565806336 ssd_efficientnet_bifpn_feature_extractor.py:144] EfficientDet EfficientNet backbone version: efficientnet-b7\n",
      "I1012 21:53:25.058670 139645565806336 ssd_efficientnet_bifpn_feature_extractor.py:145] EfficientDet BiFPN num filters: 384\n",
      "I1012 21:53:25.058774 139645565806336 ssd_efficientnet_bifpn_feature_extractor.py:147] EfficientDet BiFPN num iterations: 8\n",
      "I1012 21:53:25.064653 139645565806336 efficientnet_model.py:148] round_filter input=32 output=64\n",
      "I1012 21:53:25.087066 139645565806336 efficientnet_model.py:148] round_filter input=32 output=64\n",
      "I1012 21:53:25.087263 139645565806336 efficientnet_model.py:148] round_filter input=16 output=32\n",
      "I1012 21:53:25.395243 139645565806336 efficientnet_model.py:148] round_filter input=16 output=32\n",
      "I1012 21:53:25.395475 139645565806336 efficientnet_model.py:148] round_filter input=24 output=48\n",
      "I1012 21:53:26.107183 139645565806336 efficientnet_model.py:148] round_filter input=24 output=48\n",
      "I1012 21:53:26.107344 139645565806336 efficientnet_model.py:148] round_filter input=40 output=80\n",
      "I1012 21:53:26.807983 139645565806336 efficientnet_model.py:148] round_filter input=40 output=80\n",
      "I1012 21:53:26.808158 139645565806336 efficientnet_model.py:148] round_filter input=80 output=160\n",
      "I1012 21:53:27.835869 139645565806336 efficientnet_model.py:148] round_filter input=80 output=160\n",
      "I1012 21:53:27.836054 139645565806336 efficientnet_model.py:148] round_filter input=112 output=224\n",
      "I1012 21:53:28.902866 139645565806336 efficientnet_model.py:148] round_filter input=112 output=224\n",
      "I1012 21:53:28.903024 139645565806336 efficientnet_model.py:148] round_filter input=192 output=384\n",
      "I1012 21:53:30.400820 139645565806336 efficientnet_model.py:148] round_filter input=192 output=384\n",
      "I1012 21:53:30.400993 139645565806336 efficientnet_model.py:148] round_filter input=320 output=640\n",
      "I1012 21:53:30.931064 139645565806336 efficientnet_model.py:148] round_filter input=1280 output=2560\n",
      "I1012 21:53:30.985214 139645565806336 efficientnet_model.py:462] Building model efficientnet with params ModelConfig(width_coefficient=2.0, depth_coefficient=3.1, resolution=600, dropout_rate=0.5, blocks=(BlockConfig(input_filters=32, output_filters=16, kernel_size=3, num_repeat=1, expand_ratio=1, strides=(1, 1), se_ratio=0.25, id_skip=True, fused_conv=False, conv_type='depthwise'), BlockConfig(input_filters=16, output_filters=24, kernel_size=3, num_repeat=2, expand_ratio=6, strides=(2, 2), se_ratio=0.25, id_skip=True, fused_conv=False, conv_type='depthwise'), BlockConfig(input_filters=24, output_filters=40, kernel_size=5, num_repeat=2, expand_ratio=6, strides=(2, 2), se_ratio=0.25, id_skip=True, fused_conv=False, conv_type='depthwise'), BlockConfig(input_filters=40, output_filters=80, kernel_size=3, num_repeat=3, expand_ratio=6, strides=(2, 2), se_ratio=0.25, id_skip=True, fused_conv=False, conv_type='depthwise'), BlockConfig(input_filters=80, output_filters=112, kernel_size=5, num_repeat=3, expand_ratio=6, strides=(1, 1), se_ratio=0.25, id_skip=True, fused_conv=False, conv_type='depthwise'), BlockConfig(input_filters=112, output_filters=192, kernel_size=5, num_repeat=4, expand_ratio=6, strides=(2, 2), se_ratio=0.25, id_skip=True, fused_conv=False, conv_type='depthwise'), BlockConfig(input_filters=192, output_filters=320, kernel_size=3, num_repeat=1, expand_ratio=6, strides=(1, 1), se_ratio=0.25, id_skip=True, fused_conv=False, conv_type='depthwise')), stem_base_filters=32, top_base_filters=1280, activation='simple_swish', batch_norm='default', bn_momentum=0.99, bn_epsilon=0.001, weight_decay=5e-06, drop_connect_rate=0.2, depth_divisor=8, min_depth=None, use_se=True, input_channels=3, num_classes=1000, model_name='efficientnet', rescale_input=False, data_format='channels_last', dtype='float32')\n",
      "INFO:tensorflow:time(__main__.ModelBuilderTF2Test.test_create_ssd_models_from_config): 30.31s\n",
      "I1012 21:53:31.178042 139645565806336 test_util.py:1973] time(__main__.ModelBuilderTF2Test.test_create_ssd_models_from_config): 30.31s\n",
      "[       OK ] ModelBuilderTF2Test.test_create_ssd_models_from_config\n",
      "[ RUN      ] ModelBuilderTF2Test.test_invalid_faster_rcnn_batchnorm_update\n",
      "INFO:tensorflow:time(__main__.ModelBuilderTF2Test.test_invalid_faster_rcnn_batchnorm_update): 0.01s\n",
      "I1012 21:53:31.190033 139645565806336 test_util.py:1973] time(__main__.ModelBuilderTF2Test.test_invalid_faster_rcnn_batchnorm_update): 0.01s\n",
      "[       OK ] ModelBuilderTF2Test.test_invalid_faster_rcnn_batchnorm_update\n",
      "[ RUN      ] ModelBuilderTF2Test.test_invalid_first_stage_nms_iou_threshold\n",
      "INFO:tensorflow:time(__main__.ModelBuilderTF2Test.test_invalid_first_stage_nms_iou_threshold): 0.0s\n",
      "I1012 21:53:31.193106 139645565806336 test_util.py:1973] time(__main__.ModelBuilderTF2Test.test_invalid_first_stage_nms_iou_threshold): 0.0s\n",
      "[       OK ] ModelBuilderTF2Test.test_invalid_first_stage_nms_iou_threshold\n",
      "[ RUN      ] ModelBuilderTF2Test.test_invalid_model_config_proto\n",
      "INFO:tensorflow:time(__main__.ModelBuilderTF2Test.test_invalid_model_config_proto): 0.0s\n",
      "I1012 21:53:31.194395 139645565806336 test_util.py:1973] time(__main__.ModelBuilderTF2Test.test_invalid_model_config_proto): 0.0s\n",
      "[       OK ] ModelBuilderTF2Test.test_invalid_model_config_proto\n",
      "[ RUN      ] ModelBuilderTF2Test.test_invalid_second_stage_batch_size\n",
      "INFO:tensorflow:time(__main__.ModelBuilderTF2Test.test_invalid_second_stage_batch_size): 0.0s\n",
      "I1012 21:53:31.197047 139645565806336 test_util.py:1973] time(__main__.ModelBuilderTF2Test.test_invalid_second_stage_batch_size): 0.0s\n",
      "[       OK ] ModelBuilderTF2Test.test_invalid_second_stage_batch_size\n",
      "[ RUN      ] ModelBuilderTF2Test.test_session\n",
      "[  SKIPPED ] ModelBuilderTF2Test.test_session\n",
      "[ RUN      ] ModelBuilderTF2Test.test_unknown_faster_rcnn_feature_extractor\n",
      "INFO:tensorflow:time(__main__.ModelBuilderTF2Test.test_unknown_faster_rcnn_feature_extractor): 0.0s\n",
      "I1012 21:53:31.199613 139645565806336 test_util.py:1973] time(__main__.ModelBuilderTF2Test.test_unknown_faster_rcnn_feature_extractor): 0.0s\n",
      "[       OK ] ModelBuilderTF2Test.test_unknown_faster_rcnn_feature_extractor\n",
      "[ RUN      ] ModelBuilderTF2Test.test_unknown_meta_architecture\n",
      "INFO:tensorflow:time(__main__.ModelBuilderTF2Test.test_unknown_meta_architecture): 0.0s\n",
      "I1012 21:53:31.200371 139645565806336 test_util.py:1973] time(__main__.ModelBuilderTF2Test.test_unknown_meta_architecture): 0.0s\n",
      "[       OK ] ModelBuilderTF2Test.test_unknown_meta_architecture\n",
      "[ RUN      ] ModelBuilderTF2Test.test_unknown_ssd_feature_extractor\n",
      "INFO:tensorflow:time(__main__.ModelBuilderTF2Test.test_unknown_ssd_feature_extractor): 0.0s\n",
      "I1012 21:53:31.201821 139645565806336 test_util.py:1973] time(__main__.ModelBuilderTF2Test.test_unknown_ssd_feature_extractor): 0.0s\n",
      "[       OK ] ModelBuilderTF2Test.test_unknown_ssd_feature_extractor\n",
      "----------------------------------------------------------------------\n",
      "Ran 20 tests in 36.143s\n",
      "\n",
      "OK (skipped=1)\n"
     ]
    }
   ],
   "source": [
    "! python /workspaces/TF2_ObjectDetection/models/research/object_detection/builders/model_builder_tf2_test.py"
   ]
  },
  {
   "cell_type": "code",
   "execution_count": null,
   "metadata": {},
   "outputs": [],
   "source": []
  }
 ]
}