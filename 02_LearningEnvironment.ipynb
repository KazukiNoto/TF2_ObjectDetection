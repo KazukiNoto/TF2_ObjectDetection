{
 "metadata": {
  "language_info": {
   "codemirror_mode": {
    "name": "ipython",
    "version": 3
   },
   "file_extension": ".py",
   "mimetype": "text/x-python",
   "name": "python",
   "nbconvert_exporter": "python",
   "pygments_lexer": "ipython3",
   "version": "3.7.3-final"
  },
  "orig_nbformat": 2,
  "kernelspec": {
   "name": "Python 3.7.3 64-bit",
   "display_name": "Python 3.7.3 64-bit",
   "metadata": {
    "interpreter": {
     "hash": "4cd7ab41f5fca4b9b44701077e38c5ffd31fe66a6cab21e0214b68d958d0e462"
    }
   }
  }
 },
 "nbformat": 4,
 "nbformat_minor": 2,
 "cells": [
  {
   "source": [
    "# 学習環境構築\n",
    "\n",
    "- Protocol Buffersインストール\n"
   ],
   "cell_type": "markdown",
   "metadata": {}
  },
  {
   "source": [
    "# Protocol Buffersインストール\n",
    "\n",
    "[Protocol Buffers](https://developers.google.com/protocol-buffers/docs/downloads)\n"
   ],
   "cell_type": "markdown",
   "metadata": {}
  },
  {
   "cell_type": "code",
   "execution_count": 4,
   "metadata": {},
   "outputs": [
    {
     "output_type": "stream",
     "name": "stdout",
     "text": [
      "  % Total    % Received % Xferd  Average Speed   Time    Time     Time  Current\n",
      "                                 Dload  Upload   Total   Spent    Left  Speed\n",
      "100   164  100   164    0     0    492      0 --:--:-- --:--:-- --:--:--   493\n",
      "100   653  100   653    0     0   1025      0 --:--:-- --:--:-- --:--:--  1025\n",
      "100 1299k  100 1299k    0     0   516k      0  0:00:02  0:00:02 --:--:--  778k\n",
      "Archive:  protoc-3.2.0-linux-x86_64.zip\n",
      "   creating: protoc3/include/\n",
      "   creating: protoc3/include/google/\n",
      "   creating: protoc3/include/google/protobuf/\n",
      "  inflating: protoc3/include/google/protobuf/timestamp.proto  \n",
      "  inflating: protoc3/include/google/protobuf/source_context.proto  \n",
      "  inflating: protoc3/include/google/protobuf/any.proto  \n",
      "  inflating: protoc3/include/google/protobuf/api.proto  \n",
      "  inflating: protoc3/include/google/protobuf/descriptor.proto  \n",
      "  inflating: protoc3/include/google/protobuf/struct.proto  \n",
      "  inflating: protoc3/include/google/protobuf/wrappers.proto  \n",
      "   creating: protoc3/include/google/protobuf/compiler/\n",
      "  inflating: protoc3/include/google/protobuf/compiler/plugin.proto  \n",
      "  inflating: protoc3/include/google/protobuf/empty.proto  \n",
      "  inflating: protoc3/include/google/protobuf/duration.proto  \n",
      "  inflating: protoc3/include/google/protobuf/field_mask.proto  \n",
      "  inflating: protoc3/include/google/protobuf/type.proto  \n",
      "   creating: protoc3/bin/\n",
      "  inflating: protoc3/bin/protoc      \n",
      "  inflating: protoc3/readme.txt      \n"
     ]
    }
   ],
   "source": [
    "! curl -OL https://github.com/google/protobuf/releases/download/v3.2.0/protoc-3.2.0-linux-x86_64.zip\n",
    "! unzip protoc-3.2.0-linux-x86_64.zip -d protoc3\n",
    "! mv protoc3/bin/* /usr/local/bin/\n",
    "! mv protoc3/include/* /usr/local/include/\n",
    "! rm -rf protoc3 protoc-3.2.0-linux-x86_64.zip"
   ]
  },
  {
   "source": [
    "# TensorFlow Object Detection API準備\n",
    "\n"
   ],
   "cell_type": "markdown",
   "metadata": {}
  },
  {
   "cell_type": "code",
   "execution_count": 1,
   "metadata": {},
   "outputs": [
    {
     "output_type": "stream",
     "name": "stdout",
     "text": [
      "Cloning into 'models'...\n",
      "remote: Enumerating objects: 2234, done.\u001b[K\n",
      "remote: Counting objects: 100% (2234/2234), done.\u001b[K\n",
      "remote: Compressing objects: 100% (1930/1930), done.\u001b[K\n",
      "remote: Total 2234 (delta 541), reused 946 (delta 279), pack-reused 0\u001b[K\n",
      "Receiving objects: 100% (2234/2234), 30.49 MiB | 5.88 MiB/s, done.\n",
      "Resolving deltas: 100% (541/541), done.\n",
      "Checking out files: 100% (2090/2090), done.\n"
     ]
    }
   ],
   "source": [
    "# Git Clone\n",
    "! git clone --depth 1 https://github.com/tensorflow/models"
   ]
  },
  {
   "source": [
    "シェルで下記を実行\n",
    "\n",
    "> $ cd models/research\n",
    "\n",
    "> /usr/local/bin/protoc object_detection/protos/*.proto --python_out=.\n"
   ],
   "cell_type": "markdown",
   "metadata": {}
  },
  {
   "source": [
    "# ライブラリのセットアップ\n",
    "\n",
    "コマンドは上に引き続き、`models/research`ディレクトリで実行する\n",
    "\n",
    "> $ cp object_detection/packages/tf2/setup.py .\n",
    "\n",
    "> $ python -m pip install ."
   ],
   "cell_type": "markdown",
   "metadata": {}
  },
  {
   "source": [
    "# セットアップの動作確認"
   ],
   "cell_type": "markdown",
   "metadata": {}
  },
  {
   "cell_type": "code",
   "execution_count": 7,
   "metadata": {
    "tags": [
     "outputPrepend"
    ]
   },
   "outputs": [
    {
     "output_type": "stream",
     "name": "stdout",
     "text": [
      "cientnet with params ModelConfig(width_coefficient=1.2, depth_coefficient=1.4, resolution=300, dropout_rate=0.3, blocks=(BlockConfig(input_filters=32, output_filters=16, kernel_size=3, num_repeat=1, expand_ratio=1, strides=(1, 1), se_ratio=0.25, id_skip=True, fused_conv=False, conv_type='depthwise'), BlockConfig(input_filters=16, output_filters=24, kernel_size=3, num_repeat=2, expand_ratio=6, strides=(2, 2), se_ratio=0.25, id_skip=True, fused_conv=False, conv_type='depthwise'), BlockConfig(input_filters=24, output_filters=40, kernel_size=5, num_repeat=2, expand_ratio=6, strides=(2, 2), se_ratio=0.25, id_skip=True, fused_conv=False, conv_type='depthwise'), BlockConfig(input_filters=40, output_filters=80, kernel_size=3, num_repeat=3, expand_ratio=6, strides=(2, 2), se_ratio=0.25, id_skip=True, fused_conv=False, conv_type='depthwise'), BlockConfig(input_filters=80, output_filters=112, kernel_size=5, num_repeat=3, expand_ratio=6, strides=(1, 1), se_ratio=0.25, id_skip=True, fused_conv=False, conv_type='depthwise'), BlockConfig(input_filters=112, output_filters=192, kernel_size=5, num_repeat=4, expand_ratio=6, strides=(2, 2), se_ratio=0.25, id_skip=True, fused_conv=False, conv_type='depthwise'), BlockConfig(input_filters=192, output_filters=320, kernel_size=3, num_repeat=1, expand_ratio=6, strides=(1, 1), se_ratio=0.25, id_skip=True, fused_conv=False, conv_type='depthwise')), stem_base_filters=32, top_base_filters=1280, activation='simple_swish', batch_norm='default', bn_momentum=0.99, bn_epsilon=0.001, weight_decay=5e-06, drop_connect_rate=0.2, depth_divisor=8, min_depth=None, use_se=True, input_channels=3, num_classes=1000, model_name='efficientnet', rescale_input=False, data_format='channels_last', dtype='float32')\n",
      "I1012 21:58:25.716295 140457327941376 ssd_efficientnet_bifpn_feature_extractor.py:144] EfficientDet EfficientNet backbone version: efficientnet-b4\n",
      "I1012 21:58:25.716530 140457327941376 ssd_efficientnet_bifpn_feature_extractor.py:145] EfficientDet BiFPN num filters: 224\n",
      "I1012 21:58:25.716646 140457327941376 ssd_efficientnet_bifpn_feature_extractor.py:147] EfficientDet BiFPN num iterations: 7\n",
      "I1012 21:58:25.722440 140457327941376 efficientnet_model.py:148] round_filter input=32 output=48\n",
      "I1012 21:58:25.746135 140457327941376 efficientnet_model.py:148] round_filter input=32 output=48\n",
      "I1012 21:58:25.746311 140457327941376 efficientnet_model.py:148] round_filter input=16 output=24\n",
      "I1012 21:58:25.903183 140457327941376 efficientnet_model.py:148] round_filter input=16 output=24\n",
      "I1012 21:58:25.903351 140457327941376 efficientnet_model.py:148] round_filter input=24 output=32\n",
      "I1012 21:58:26.473397 140457327941376 efficientnet_model.py:148] round_filter input=24 output=32\n",
      "I1012 21:58:26.473557 140457327941376 efficientnet_model.py:148] round_filter input=40 output=56\n",
      "I1012 21:58:26.889181 140457327941376 efficientnet_model.py:148] round_filter input=40 output=56\n",
      "I1012 21:58:26.889357 140457327941376 efficientnet_model.py:148] round_filter input=80 output=112\n",
      "I1012 21:58:27.522497 140457327941376 efficientnet_model.py:148] round_filter input=80 output=112\n",
      "I1012 21:58:27.522683 140457327941376 efficientnet_model.py:148] round_filter input=112 output=160\n",
      "I1012 21:58:28.180918 140457327941376 efficientnet_model.py:148] round_filter input=112 output=160\n",
      "I1012 21:58:28.181104 140457327941376 efficientnet_model.py:148] round_filter input=192 output=272\n",
      "I1012 21:58:29.092927 140457327941376 efficientnet_model.py:148] round_filter input=192 output=272\n",
      "I1012 21:58:29.093112 140457327941376 efficientnet_model.py:148] round_filter input=320 output=448\n",
      "I1012 21:58:29.330551 140457327941376 efficientnet_model.py:148] round_filter input=1280 output=1792\n",
      "I1012 21:58:29.381968 140457327941376 efficientnet_model.py:462] Building model efficientnet with params ModelConfig(width_coefficient=1.4, depth_coefficient=1.8, resolution=380, dropout_rate=0.4, blocks=(BlockConfig(input_filters=32, output_filters=16, kernel_size=3, num_repeat=1, expand_ratio=1, strides=(1, 1), se_ratio=0.25, id_skip=True, fused_conv=False, conv_type='depthwise'), BlockConfig(input_filters=16, output_filters=24, kernel_size=3, num_repeat=2, expand_ratio=6, strides=(2, 2), se_ratio=0.25, id_skip=True, fused_conv=False, conv_type='depthwise'), BlockConfig(input_filters=24, output_filters=40, kernel_size=5, num_repeat=2, expand_ratio=6, strides=(2, 2), se_ratio=0.25, id_skip=True, fused_conv=False, conv_type='depthwise'), BlockConfig(input_filters=40, output_filters=80, kernel_size=3, num_repeat=3, expand_ratio=6, strides=(2, 2), se_ratio=0.25, id_skip=True, fused_conv=False, conv_type='depthwise'), BlockConfig(input_filters=80, output_filters=112, kernel_size=5, num_repeat=3, expand_ratio=6, strides=(1, 1), se_ratio=0.25, id_skip=True, fused_conv=False, conv_type='depthwise'), BlockConfig(input_filters=112, output_filters=192, kernel_size=5, num_repeat=4, expand_ratio=6, strides=(2, 2), se_ratio=0.25, id_skip=True, fused_conv=False, conv_type='depthwise'), BlockConfig(input_filters=192, output_filters=320, kernel_size=3, num_repeat=1, expand_ratio=6, strides=(1, 1), se_ratio=0.25, id_skip=True, fused_conv=False, conv_type='depthwise')), stem_base_filters=32, top_base_filters=1280, activation='simple_swish', batch_norm='default', bn_momentum=0.99, bn_epsilon=0.001, weight_decay=5e-06, drop_connect_rate=0.2, depth_divisor=8, min_depth=None, use_se=True, input_channels=3, num_classes=1000, model_name='efficientnet', rescale_input=False, data_format='channels_last', dtype='float32')\n",
      "I1012 21:58:29.516880 140457327941376 ssd_efficientnet_bifpn_feature_extractor.py:144] EfficientDet EfficientNet backbone version: efficientnet-b5\n",
      "I1012 21:58:29.517072 140457327941376 ssd_efficientnet_bifpn_feature_extractor.py:145] EfficientDet BiFPN num filters: 288\n",
      "I1012 21:58:29.517179 140457327941376 ssd_efficientnet_bifpn_feature_extractor.py:147] EfficientDet BiFPN num iterations: 7\n",
      "I1012 21:58:29.523216 140457327941376 efficientnet_model.py:148] round_filter input=32 output=48\n",
      "I1012 21:58:29.550010 140457327941376 efficientnet_model.py:148] round_filter input=32 output=48\n",
      "I1012 21:58:29.550192 140457327941376 efficientnet_model.py:148] round_filter input=16 output=24\n",
      "I1012 21:58:29.785904 140457327941376 efficientnet_model.py:148] round_filter input=16 output=24\n",
      "I1012 21:58:29.786096 140457327941376 efficientnet_model.py:148] round_filter input=24 output=40\n",
      "I1012 21:58:30.407309 140457327941376 efficientnet_model.py:148] round_filter input=24 output=40\n",
      "I1012 21:58:30.407485 140457327941376 efficientnet_model.py:148] round_filter input=40 output=64\n",
      "I1012 21:58:30.968164 140457327941376 efficientnet_model.py:148] round_filter input=40 output=64\n",
      "I1012 21:58:30.968354 140457327941376 efficientnet_model.py:148] round_filter input=80 output=128\n",
      "I1012 21:58:31.934535 140457327941376 efficientnet_model.py:148] round_filter input=80 output=128\n",
      "I1012 21:58:31.934713 140457327941376 efficientnet_model.py:148] round_filter input=112 output=176\n",
      "I1012 21:58:32.701155 140457327941376 efficientnet_model.py:148] round_filter input=112 output=176\n",
      "I1012 21:58:32.701333 140457327941376 efficientnet_model.py:148] round_filter input=192 output=304\n",
      "I1012 21:58:33.731998 140457327941376 efficientnet_model.py:148] round_filter input=192 output=304\n",
      "I1012 21:58:33.732181 140457327941376 efficientnet_model.py:148] round_filter input=320 output=512\n",
      "I1012 21:58:34.092779 140457327941376 efficientnet_model.py:148] round_filter input=1280 output=2048\n",
      "I1012 21:58:34.144938 140457327941376 efficientnet_model.py:462] Building model efficientnet with params ModelConfig(width_coefficient=1.6, depth_coefficient=2.2, resolution=456, dropout_rate=0.4, blocks=(BlockConfig(input_filters=32, output_filters=16, kernel_size=3, num_repeat=1, expand_ratio=1, strides=(1, 1), se_ratio=0.25, id_skip=True, fused_conv=False, conv_type='depthwise'), BlockConfig(input_filters=16, output_filters=24, kernel_size=3, num_repeat=2, expand_ratio=6, strides=(2, 2), se_ratio=0.25, id_skip=True, fused_conv=False, conv_type='depthwise'), BlockConfig(input_filters=24, output_filters=40, kernel_size=5, num_repeat=2, expand_ratio=6, strides=(2, 2), se_ratio=0.25, id_skip=True, fused_conv=False, conv_type='depthwise'), BlockConfig(input_filters=40, output_filters=80, kernel_size=3, num_repeat=3, expand_ratio=6, strides=(2, 2), se_ratio=0.25, id_skip=True, fused_conv=False, conv_type='depthwise'), BlockConfig(input_filters=80, output_filters=112, kernel_size=5, num_repeat=3, expand_ratio=6, strides=(1, 1), se_ratio=0.25, id_skip=True, fused_conv=False, conv_type='depthwise'), BlockConfig(input_filters=112, output_filters=192, kernel_size=5, num_repeat=4, expand_ratio=6, strides=(2, 2), se_ratio=0.25, id_skip=True, fused_conv=False, conv_type='depthwise'), BlockConfig(input_filters=192, output_filters=320, kernel_size=3, num_repeat=1, expand_ratio=6, strides=(1, 1), se_ratio=0.25, id_skip=True, fused_conv=False, conv_type='depthwise')), stem_base_filters=32, top_base_filters=1280, activation='simple_swish', batch_norm='default', bn_momentum=0.99, bn_epsilon=0.001, weight_decay=5e-06, drop_connect_rate=0.2, depth_divisor=8, min_depth=None, use_se=True, input_channels=3, num_classes=1000, model_name='efficientnet', rescale_input=False, data_format='channels_last', dtype='float32')\n",
      "I1012 21:58:34.305851 140457327941376 ssd_efficientnet_bifpn_feature_extractor.py:144] EfficientDet EfficientNet backbone version: efficientnet-b6\n",
      "I1012 21:58:34.306032 140457327941376 ssd_efficientnet_bifpn_feature_extractor.py:145] EfficientDet BiFPN num filters: 384\n",
      "I1012 21:58:34.306147 140457327941376 ssd_efficientnet_bifpn_feature_extractor.py:147] EfficientDet BiFPN num iterations: 8\n",
      "I1012 21:58:34.312261 140457327941376 efficientnet_model.py:148] round_filter input=32 output=56\n",
      "I1012 21:58:34.340425 140457327941376 efficientnet_model.py:148] round_filter input=32 output=56\n",
      "I1012 21:58:34.340639 140457327941376 efficientnet_model.py:148] round_filter input=16 output=32\n",
      "I1012 21:58:34.587123 140457327941376 efficientnet_model.py:148] round_filter input=16 output=32\n",
      "I1012 21:58:34.587319 140457327941376 efficientnet_model.py:148] round_filter input=24 output=40\n",
      "I1012 21:58:35.267308 140457327941376 efficientnet_model.py:148] round_filter input=24 output=40\n",
      "I1012 21:58:35.267556 140457327941376 efficientnet_model.py:148] round_filter input=40 output=72\n",
      "I1012 21:58:36.011561 140457327941376 efficientnet_model.py:148] round_filter input=40 output=72\n",
      "I1012 21:58:36.011752 140457327941376 efficientnet_model.py:148] round_filter input=80 output=144\n",
      "I1012 21:58:36.880405 140457327941376 efficientnet_model.py:148] round_filter input=80 output=144\n",
      "I1012 21:58:36.880598 140457327941376 efficientnet_model.py:148] round_filter input=112 output=200\n",
      "I1012 21:58:37.794302 140457327941376 efficientnet_model.py:148] round_filter input=112 output=200\n",
      "I1012 21:58:37.794485 140457327941376 efficientnet_model.py:148] round_filter input=192 output=344\n",
      "I1012 21:58:39.267670 140457327941376 efficientnet_model.py:148] round_filter input=192 output=344\n",
      "I1012 21:58:39.267838 140457327941376 efficientnet_model.py:148] round_filter input=320 output=576\n",
      "I1012 21:58:39.651068 140457327941376 efficientnet_model.py:148] round_filter input=1280 output=2304\n",
      "I1012 21:58:39.703610 140457327941376 efficientnet_model.py:462] Building model efficientnet with params ModelConfig(width_coefficient=1.8, depth_coefficient=2.6, resolution=528, dropout_rate=0.5, blocks=(BlockConfig(input_filters=32, output_filters=16, kernel_size=3, num_repeat=1, expand_ratio=1, strides=(1, 1), se_ratio=0.25, id_skip=True, fused_conv=False, conv_type='depthwise'), BlockConfig(input_filters=16, output_filters=24, kernel_size=3, num_repeat=2, expand_ratio=6, strides=(2, 2), se_ratio=0.25, id_skip=True, fused_conv=False, conv_type='depthwise'), BlockConfig(input_filters=24, output_filters=40, kernel_size=5, num_repeat=2, expand_ratio=6, strides=(2, 2), se_ratio=0.25, id_skip=True, fused_conv=False, conv_type='depthwise'), BlockConfig(input_filters=40, output_filters=80, kernel_size=3, num_repeat=3, expand_ratio=6, strides=(2, 2), se_ratio=0.25, id_skip=True, fused_conv=False, conv_type='depthwise'), BlockConfig(input_filters=80, output_filters=112, kernel_size=5, num_repeat=3, expand_ratio=6, strides=(1, 1), se_ratio=0.25, id_skip=True, fused_conv=False, conv_type='depthwise'), BlockConfig(input_filters=112, output_filters=192, kernel_size=5, num_repeat=4, expand_ratio=6, strides=(2, 2), se_ratio=0.25, id_skip=True, fused_conv=False, conv_type='depthwise'), BlockConfig(input_filters=192, output_filters=320, kernel_size=3, num_repeat=1, expand_ratio=6, strides=(1, 1), se_ratio=0.25, id_skip=True, fused_conv=False, conv_type='depthwise')), stem_base_filters=32, top_base_filters=1280, activation='simple_swish', batch_norm='default', bn_momentum=0.99, bn_epsilon=0.001, weight_decay=5e-06, drop_connect_rate=0.2, depth_divisor=8, min_depth=None, use_se=True, input_channels=3, num_classes=1000, model_name='efficientnet', rescale_input=False, data_format='channels_last', dtype='float32')\n",
      "I1012 21:58:39.870803 140457327941376 ssd_efficientnet_bifpn_feature_extractor.py:144] EfficientDet EfficientNet backbone version: efficientnet-b7\n",
      "I1012 21:58:39.871047 140457327941376 ssd_efficientnet_bifpn_feature_extractor.py:145] EfficientDet BiFPN num filters: 384\n",
      "I1012 21:58:39.871134 140457327941376 ssd_efficientnet_bifpn_feature_extractor.py:147] EfficientDet BiFPN num iterations: 8\n",
      "I1012 21:58:39.877404 140457327941376 efficientnet_model.py:148] round_filter input=32 output=64\n",
      "I1012 21:58:39.902754 140457327941376 efficientnet_model.py:148] round_filter input=32 output=64\n",
      "I1012 21:58:39.903127 140457327941376 efficientnet_model.py:148] round_filter input=16 output=32\n",
      "I1012 21:58:40.210706 140457327941376 efficientnet_model.py:148] round_filter input=16 output=32\n",
      "I1012 21:58:40.210875 140457327941376 efficientnet_model.py:148] round_filter input=24 output=48\n",
      "I1012 21:58:40.987572 140457327941376 efficientnet_model.py:148] round_filter input=24 output=48\n",
      "I1012 21:58:40.987764 140457327941376 efficientnet_model.py:148] round_filter input=40 output=80\n",
      "I1012 21:58:41.710200 140457327941376 efficientnet_model.py:148] round_filter input=40 output=80\n",
      "I1012 21:58:41.710381 140457327941376 efficientnet_model.py:148] round_filter input=80 output=160\n",
      "I1012 21:58:42.778348 140457327941376 efficientnet_model.py:148] round_filter input=80 output=160\n",
      "I1012 21:58:42.778536 140457327941376 efficientnet_model.py:148] round_filter input=112 output=224\n",
      "I1012 21:58:43.920584 140457327941376 efficientnet_model.py:148] round_filter input=112 output=224\n",
      "I1012 21:58:43.920770 140457327941376 efficientnet_model.py:148] round_filter input=192 output=384\n",
      "I1012 21:58:45.459859 140457327941376 efficientnet_model.py:148] round_filter input=192 output=384\n",
      "I1012 21:58:45.460084 140457327941376 efficientnet_model.py:148] round_filter input=320 output=640\n",
      "I1012 21:58:45.997046 140457327941376 efficientnet_model.py:148] round_filter input=1280 output=2560\n",
      "I1012 21:58:46.051774 140457327941376 efficientnet_model.py:462] Building model efficientnet with params ModelConfig(width_coefficient=2.0, depth_coefficient=3.1, resolution=600, dropout_rate=0.5, blocks=(BlockConfig(input_filters=32, output_filters=16, kernel_size=3, num_repeat=1, expand_ratio=1, strides=(1, 1), se_ratio=0.25, id_skip=True, fused_conv=False, conv_type='depthwise'), BlockConfig(input_filters=16, output_filters=24, kernel_size=3, num_repeat=2, expand_ratio=6, strides=(2, 2), se_ratio=0.25, id_skip=True, fused_conv=False, conv_type='depthwise'), BlockConfig(input_filters=24, output_filters=40, kernel_size=5, num_repeat=2, expand_ratio=6, strides=(2, 2), se_ratio=0.25, id_skip=True, fused_conv=False, conv_type='depthwise'), BlockConfig(input_filters=40, output_filters=80, kernel_size=3, num_repeat=3, expand_ratio=6, strides=(2, 2), se_ratio=0.25, id_skip=True, fused_conv=False, conv_type='depthwise'), BlockConfig(input_filters=80, output_filters=112, kernel_size=5, num_repeat=3, expand_ratio=6, strides=(1, 1), se_ratio=0.25, id_skip=True, fused_conv=False, conv_type='depthwise'), BlockConfig(input_filters=112, output_filters=192, kernel_size=5, num_repeat=4, expand_ratio=6, strides=(2, 2), se_ratio=0.25, id_skip=True, fused_conv=False, conv_type='depthwise'), BlockConfig(input_filters=192, output_filters=320, kernel_size=3, num_repeat=1, expand_ratio=6, strides=(1, 1), se_ratio=0.25, id_skip=True, fused_conv=False, conv_type='depthwise')), stem_base_filters=32, top_base_filters=1280, activation='simple_swish', batch_norm='default', bn_momentum=0.99, bn_epsilon=0.001, weight_decay=5e-06, drop_connect_rate=0.2, depth_divisor=8, min_depth=None, use_se=True, input_channels=3, num_classes=1000, model_name='efficientnet', rescale_input=False, data_format='channels_last', dtype='float32')\n",
      "INFO:tensorflow:time(__main__.ModelBuilderTF2Test.test_create_ssd_models_from_config): 31.35s\n",
      "I1012 21:58:46.252750 140457327941376 test_util.py:1973] time(__main__.ModelBuilderTF2Test.test_create_ssd_models_from_config): 31.35s\n",
      "[       OK ] ModelBuilderTF2Test.test_create_ssd_models_from_config\n",
      "[ RUN      ] ModelBuilderTF2Test.test_invalid_faster_rcnn_batchnorm_update\n",
      "INFO:tensorflow:time(__main__.ModelBuilderTF2Test.test_invalid_faster_rcnn_batchnorm_update): 0.01s\n",
      "I1012 21:58:46.265441 140457327941376 test_util.py:1973] time(__main__.ModelBuilderTF2Test.test_invalid_faster_rcnn_batchnorm_update): 0.01s\n",
      "[       OK ] ModelBuilderTF2Test.test_invalid_faster_rcnn_batchnorm_update\n",
      "[ RUN      ] ModelBuilderTF2Test.test_invalid_first_stage_nms_iou_threshold\n",
      "INFO:tensorflow:time(__main__.ModelBuilderTF2Test.test_invalid_first_stage_nms_iou_threshold): 0.0s\n",
      "I1012 21:58:46.268066 140457327941376 test_util.py:1973] time(__main__.ModelBuilderTF2Test.test_invalid_first_stage_nms_iou_threshold): 0.0s\n",
      "[       OK ] ModelBuilderTF2Test.test_invalid_first_stage_nms_iou_threshold\n",
      "[ RUN      ] ModelBuilderTF2Test.test_invalid_model_config_proto\n",
      "INFO:tensorflow:time(__main__.ModelBuilderTF2Test.test_invalid_model_config_proto): 0.0s\n",
      "I1012 21:58:46.269037 140457327941376 test_util.py:1973] time(__main__.ModelBuilderTF2Test.test_invalid_model_config_proto): 0.0s\n",
      "[       OK ] ModelBuilderTF2Test.test_invalid_model_config_proto\n",
      "[ RUN      ] ModelBuilderTF2Test.test_invalid_second_stage_batch_size\n",
      "INFO:tensorflow:time(__main__.ModelBuilderTF2Test.test_invalid_second_stage_batch_size): 0.0s\n",
      "I1012 21:58:46.271058 140457327941376 test_util.py:1973] time(__main__.ModelBuilderTF2Test.test_invalid_second_stage_batch_size): 0.0s\n",
      "[       OK ] ModelBuilderTF2Test.test_invalid_second_stage_batch_size\n",
      "[ RUN      ] ModelBuilderTF2Test.test_session\n",
      "[  SKIPPED ] ModelBuilderTF2Test.test_session\n",
      "[ RUN      ] ModelBuilderTF2Test.test_unknown_faster_rcnn_feature_extractor\n",
      "INFO:tensorflow:time(__main__.ModelBuilderTF2Test.test_unknown_faster_rcnn_feature_extractor): 0.0s\n",
      "I1012 21:58:46.273139 140457327941376 test_util.py:1973] time(__main__.ModelBuilderTF2Test.test_unknown_faster_rcnn_feature_extractor): 0.0s\n",
      "[       OK ] ModelBuilderTF2Test.test_unknown_faster_rcnn_feature_extractor\n",
      "[ RUN      ] ModelBuilderTF2Test.test_unknown_meta_architecture\n",
      "INFO:tensorflow:time(__main__.ModelBuilderTF2Test.test_unknown_meta_architecture): 0.0s\n",
      "I1012 21:58:46.273870 140457327941376 test_util.py:1973] time(__main__.ModelBuilderTF2Test.test_unknown_meta_architecture): 0.0s\n",
      "[       OK ] ModelBuilderTF2Test.test_unknown_meta_architecture\n",
      "[ RUN      ] ModelBuilderTF2Test.test_unknown_ssd_feature_extractor\n",
      "INFO:tensorflow:time(__main__.ModelBuilderTF2Test.test_unknown_ssd_feature_extractor): 0.0s\n",
      "I1012 21:58:46.275295 140457327941376 test_util.py:1973] time(__main__.ModelBuilderTF2Test.test_unknown_ssd_feature_extractor): 0.0s\n",
      "[       OK ] ModelBuilderTF2Test.test_unknown_ssd_feature_extractor\n",
      "----------------------------------------------------------------------\n",
      "Ran 20 tests in 37.221s\n",
      "\n",
      "OK (skipped=1)\n"
     ]
    }
   ],
   "source": [
    "! python /workspaces/TF2_ObjectDetection/models/research/object_detection/builders/model_builder_tf2_test.py"
   ]
  },
  {
   "cell_type": "code",
   "execution_count": null,
   "metadata": {},
   "outputs": [],
   "source": []
  }
 ]
}