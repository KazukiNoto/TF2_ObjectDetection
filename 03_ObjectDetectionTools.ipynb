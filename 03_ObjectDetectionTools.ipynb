{
 "metadata": {
  "language_info": {
   "codemirror_mode": {
    "name": "ipython",
    "version": 3
   },
   "file_extension": ".py",
   "mimetype": "text/x-python",
   "name": "python",
   "nbconvert_exporter": "python",
   "pygments_lexer": "ipython3",
   "version": "3.7.3-final"
  },
  "orig_nbformat": 2,
  "kernelspec": {
   "name": "Python 3.7.3 64-bit",
   "display_name": "Python 3.7.3 64-bit",
   "metadata": {
    "interpreter": {
     "hash": "4cd7ab41f5fca4b9b44701077e38c5ffd31fe66a6cab21e0214b68d958d0e462"
    }
   }
  }
 },
 "nbformat": 4,
 "nbformat_minor": 2,
 "cells": [
  {
   "source": [
    "# ObjectDetectionToolsを使った学習\n",
    "\n",
    "ここを実行する前に、Twitterで神のアカウントをフォローする事。\n",
    "フォローしてないと、動かないよ多分\n",
    "\n",
    "Twitter\n",
    "\n",
    "> https://twitter.com/karaage0703?s=20\n"
   ],
   "cell_type": "markdown",
   "metadata": {}
  },
  {
   "source": [
    "# ObjectDetectionToolsのクローン\n",
    "\n",
    "ディレクトリ移動(連続でやってる場合は、既に同じディレクトリかも)\n",
    "\n",
    "> $ cd /models/research\n",
    "\n",
    "Git Clone\n",
    "\n",
    "> $ git clone https://github.com/karaage0703/object_detection_tools\n"
   ],
   "cell_type": "markdown",
   "metadata": {}
  },
  {
   "source": [
    "# アノテーションデータのLabelMapファイルのコピー"
   ],
   "cell_type": "markdown",
   "metadata": {}
  },
  {
   "cell_type": "code",
   "execution_count": 20,
   "metadata": {},
   "outputs": [
    {
     "output_type": "execute_result",
     "data": {
      "text/plain": [
       "'models/research/object_detection_tools/data/tf_label_map.pbtxt'"
      ]
     },
     "metadata": {},
     "execution_count": 20
    }
   ],
   "source": [
    "import shutil\n",
    "\n",
    "BASE_PATH=\"vott/TF2OD-TFRecords-export/tf_label_map.pbtxt\"\n",
    "COPY_PATH=\"models/research/object_detection_tools/data/tf_label_map.pbtxt\"\n",
    "\n",
    "shutil.copyfile(BASE_PATH, COPY_PATH)"
   ]
  },
  {
   "source": [
    "# アノテーションデータのコピー\n",
    "\n",
    "アノテーションデータはラーニングデータとテストデータに分割してコピーする必要があります。\n",
    "\n",
    "そこで、下記の流れで行います。\n",
    "\n",
    "- アノテーションデータのファイルリスト取得\n",
    "\n",
    "- 7:3くらいに分割して、ラーニング用とテストデータディレクトリにコピーする\n"
   ],
   "cell_type": "markdown",
   "metadata": {}
  },
  {
   "cell_type": "code",
   "execution_count": 21,
   "metadata": {},
   "outputs": [
    {
     "output_type": "stream",
     "name": "stdout",
     "text": [
      "ファイルコピー完了\n"
     ]
    }
   ],
   "source": [
    "# ファイルリスト取得\n",
    "import glob\n",
    "FILE_LIST=glob.glob(\"vott/TF2OD-TFRecords-export/*\")\n",
    "\n",
    "# sklernでリストを分割\n",
    "import numpy as np\n",
    "from sklearn.model_selection import train_test_split\n",
    "import os\n",
    "# 30%テストでリスト分割\n",
    "TRAIN_LIST, TEST_LIST = train_test_split(FILE_LIST,test_size=0.3)\n",
    "\n",
    "# ラーニングデータコピー\n",
    "for BASE_FILE_PATH in TRAIN_LIST:\n",
    "    # ベースパスからファイル名だけ抜き出し\n",
    "    FILE_NAME=os.path.basename(BASE_FILE_PATH)\n",
    "    # ファイルコピー\n",
    "    shutil.copyfile(BASE_FILE_PATH, \"models/research/object_detection_tools/data/train/\"+FILE_NAME)\n",
    "\n",
    "# テストデータコピー\n",
    "for BASE_FILE_PATH in TEST_LIST:\n",
    "    # ベースパスからファイル名だけ抜き出し\n",
    "    FILE_NAME=os.path.basename(BASE_FILE_PATH)\n",
    "    # ファイルコピー\n",
    "    shutil.copyfile(BASE_FILE_PATH, \"models/research/object_detection_tools/data/val/\"+FILE_NAME)\n",
    "\n",
    "print(\"ファイルコピー完了\")"
   ]
  },
  {
   "source": [
    "# スクリプトで連番になるように修正\n",
    "\n",
    "> $ cd object_detection_tools/data\n",
    "\n",
    "> $ ./change_tfrecord_filename.sh"
   ],
   "cell_type": "markdown",
   "metadata": {}
  },
  {
   "source": [
    "# Configファイルの修正\n",
    "\n",
    "> ~/models/research/object_detection_tools/config/efficientdet_d0_coco17_tpu-32.config\n",
    "\n",
    "下記のnum_classesの値をアノテーションしたラベル数に修正する\n",
    "\n",
    "```\n",
    "model {\n",
    "  ssd {\n",
    "    num_classes: 1\n",
    "```\n",
    "\n",
    "転移学習を行わないので、下記の項目を削除する\n",
    "\n",
    "> fine_tune_checkpoint: \"./object_detection_tools/models/efficientdet_d0_coco17_tpu-32/checkpoint/ckpt-0\"\n"
   ],
   "cell_type": "markdown",
   "metadata": {}
  },
  {
   "source": [
    "# ラーニング\n",
    "\n",
    "> $ cd ~/models/research\n",
    "\n",
    "> $ python object_detection/model_main_tf2.py --pipeline_config_path=\"./object_detection_tools/config/efficientdet_d0_coco17_tpu-32.config\" --model_dir=\"./saved_model_01\" --num_train_steps=10000 --alsologtostderr"
   ],
   "cell_type": "markdown",
   "metadata": {}
  },
  {
   "source": [
    "# モデルディレクトリ\n",
    "\n",
    "/workspaces/TF2_ObjectDetection/models/research/saved_model_01"
   ],
   "cell_type": "markdown",
   "metadata": {}
  },
  {
   "source": [
    "# TensorBoardで確認\n",
    "ディレクトリをコマンドで下記まで移動する\n",
    "\n",
    "> /workspaces/TF2_ObjectDetection/models/research\n",
    "\n",
    "TensorBoard起動\n",
    "\n",
    "> tensorboard --logdir='saved_model_01'\n"
   ],
   "cell_type": "markdown",
   "metadata": {}
  },
  {
   "cell_type": "code",
   "execution_count": null,
   "metadata": {},
   "outputs": [],
   "source": []
  }
 ]
}