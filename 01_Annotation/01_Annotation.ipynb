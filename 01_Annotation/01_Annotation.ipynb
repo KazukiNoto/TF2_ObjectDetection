{
 "metadata": {
  "language_info": {
   "codemirror_mode": {
    "name": "ipython",
    "version": 3
   },
   "file_extension": ".py",
   "mimetype": "text/x-python",
   "name": "python",
   "nbconvert_exporter": "python",
   "pygments_lexer": "ipython3",
   "version": "3.7.3-final"
  },
  "orig_nbformat": 2,
  "kernelspec": {
   "name": "Python 3.7.3 64-bit",
   "display_name": "Python 3.7.3 64-bit",
   "metadata": {
    "interpreter": {
     "hash": "4cd7ab41f5fca4b9b44701077e38c5ffd31fe66a6cab21e0214b68d958d0e462"
    }
   }
  }
 },
 "nbformat": 4,
 "nbformat_minor": 2,
 "cells": [
  {
   "source": [
    "# アノテーション\n",
    "\n",
    "Object Detectionを行うためには、画像をラーニングさせて、モデルを構築し、モデルに対して画像を引き渡して、物体が画像の中のどこにあるかを算出します。\n",
    "\n",
    "このラーニングをさせるためには、画像に対して、どの座標に、何があるのかをタグ情報として引き渡してあげなくてはいけません。\n",
    "\n",
    "この座標とタグ情報をアノテーションと呼びます。\n",
    "\n",
    "アノテーションを作成するためには、アノテーションツールというものを使って作成していくのが一般的です。\n",
    "\n",
    "今回は、Microsoftが公開しているアノテーションツール[VoTT](https://github.com/Microsoft/VoTT/releases)を使用します。\n",
    "\n",
    "最新版は、GitHubリポジトリのリリースページから環境に合わせてDLしてください。\n",
    "\n",
    "面倒な人は下記コードを実行するか、リポジトリ内にあるファイルを使ってください。\n"
   ],
   "cell_type": "markdown",
   "metadata": {}
  },
  {
   "cell_type": "code",
   "execution_count": 1,
   "metadata": {},
   "outputs": [
    {
     "output_type": "execute_result",
     "data": {
      "text/plain": [
       "('vott-2.2.0-darwin.dmg', <http.client.HTTPMessage at 0x7f56ec417eb8>)"
      ]
     },
     "metadata": {},
     "execution_count": 1
    }
   ],
   "source": [
    "# VoTTダウンロード\n",
    "import urllib.request\n",
    "import sys\n",
    "# VoTT 2.2.0 Mac用ファイル\n",
    "URL=\"https://github.com/microsoft/VoTT/releases/download/v2.2.0/vott-2.2.0-darwin.dmg\"\n",
    "FILE_NAME=\"vott-2.2.0-darwin.dmg\"\n",
    "# ファイルダウンロード\n",
    "urllib.request.urlretrieve(URL,FILE_NAME)"
   ]
  },
  {
   "cell_type": "code",
   "execution_count": null,
   "metadata": {},
   "outputs": [],
   "source": []
  }
 ]
}